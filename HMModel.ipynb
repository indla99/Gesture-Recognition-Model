{
  "cells": [
    {
      "cell_type": "code",
      "execution_count": 79,
      "id": "e9506b18",
      "metadata": {
        "colab": {
          "base_uri": "https://localhost:8080/"
        },
        "id": "e9506b18",
        "outputId": "a14f5941-1738-4d38-b608-352d77ee290e"
      },
      "outputs": [
        {
          "output_type": "stream",
          "name": "stdout",
          "text": [
            "Looking in indexes: https://pypi.org/simple, https://us-python.pkg.dev/colab-wheels/public/simple/\n",
            "Requirement already satisfied: hmmlearn in /usr/local/lib/python3.7/dist-packages (0.2.7)\n",
            "Requirement already satisfied: scikit-learn>=0.16 in /usr/local/lib/python3.7/dist-packages (from hmmlearn) (1.0.2)\n",
            "Requirement already satisfied: numpy>=1.10 in /usr/local/lib/python3.7/dist-packages (from hmmlearn) (1.21.6)\n",
            "Requirement already satisfied: scipy>=0.19 in /usr/local/lib/python3.7/dist-packages (from hmmlearn) (1.7.3)\n",
            "Requirement already satisfied: threadpoolctl>=2.0.0 in /usr/local/lib/python3.7/dist-packages (from scikit-learn>=0.16->hmmlearn) (3.1.0)\n",
            "Requirement already satisfied: joblib>=0.11 in /usr/local/lib/python3.7/dist-packages (from scikit-learn>=0.16->hmmlearn) (1.1.0)\n"
          ]
        }
      ],
      "source": [
        "# Libraries used\n",
        "!pip install hmmlearn\n",
        "\n",
        "\n",
        "\n",
        "import warnings\n",
        "warnings.filterwarnings(\"ignore\")\n",
        "import pandas as pd, numpy as np\n",
        "from hmmlearn.hmm import GaussianHMM"
      ]
    },
    {
      "cell_type": "markdown",
      "id": "26d871a7",
      "metadata": {
        "id": "26d871a7"
      },
      "source": [
        "## Preparing the Data\n",
        "##### Dataset available at https://github.com/sergiuoprea/Hand-Gesture-Recognition-Datasets"
      ]
    },
    {
      "cell_type": "code",
      "execution_count": 80,
      "id": "b744e9ce",
      "metadata": {
        "id": "b744e9ce"
      },
      "outputs": [],
      "source": [
        "def load_data(dataset_fname, col_names_prefix=None):\n",
        "\n",
        "    if col_names_prefix is None:\n",
        "        col_names_prefix = ['LC_X', 'LC_Y', 'RC_X', 'RC_Y']\n",
        "    \n",
        "    try:\n",
        "        raw_data = pd.read_csv(dataset_fname)\n",
        "    except FileNotFoundError:\n",
        "        print(f'File not found at {dataset_fname}')\n",
        "        return None, None\n",
        "        \n",
        "    list_data = []\n",
        "    for prefix in col_names_prefix:\n",
        "        list_cols = [f\"{prefix}_{idx}\" for idx in range(1,31)]\n",
        "        list_data.append(raw_data[list_cols].to_numpy())\n",
        "    data = np.stack(list_data, axis=2)\n",
        "    labels = raw_data['Gesture'].to_numpy()\n",
        "    \n",
        "    return data, labels"
      ]
    },
    {
      "cell_type": "code",
      "execution_count": 81,
      "id": "d9ffd80b",
      "metadata": {
        "scrolled": true,
        "id": "d9ffd80b"
      },
      "outputs": [],
      "source": [
        "# Load Data\n",
        "data, labels = load_data('./Original_Dataset.csv')"
      ]
    },
    {
      "cell_type": "code",
      "execution_count": 82,
      "id": "515814ac",
      "metadata": {
        "id": "515814ac"
      },
      "outputs": [],
      "source": [
        "def train_test_split(gesture, test_percent=0.2, split_type='random'):\n",
        "    if split_type == 'random':\n",
        "        idx_gesture = np.where(labels==gesture)[0].tolist()\n",
        "        data_gesture = data[idx_gesture]\n",
        "        \n",
        "        np.random.shuffle(idx_gesture)\n",
        "        idx_test_split = int(test_percent*len(idx_gesture))\n",
        "        test_data = data[idx_gesture[:idx_test_split]]\n",
        "        train_data = data[idx_gesture[idx_test_split:]]\n",
        "    else:\n",
        "        print(f'split_type not implemented: {split_type}')\n",
        "    return train_data, test_data"
      ]
    },
    {
      "cell_type": "code",
      "execution_count": 83,
      "id": "d7a1e4d9",
      "metadata": {
        "id": "d7a1e4d9"
      },
      "outputs": [],
      "source": [
        "# Split to train and test samples\n",
        "train_data, test_data = train_test_split(labels[0])"
      ]
    },
    {
      "cell_type": "code",
      "source": [
        "train_data.shape, test_data.shape"
      ],
      "metadata": {
        "colab": {
          "base_uri": "https://localhost:8080/"
        },
        "id": "q6I_eUedxZhF",
        "outputId": "0420cd11-46b4-421b-a54b-073b98a1abe3"
      },
      "id": "q6I_eUedxZhF",
      "execution_count": 84,
      "outputs": [
        {
          "output_type": "execute_result",
          "data": {
            "text/plain": [
              "((40, 30, 4), (10, 30, 4))"
            ]
          },
          "metadata": {},
          "execution_count": 84
        }
      ]
    },
    {
      "cell_type": "markdown",
      "id": "87bda282",
      "metadata": {
        "id": "87bda282"
      },
      "source": [
        "## Normalizing the Data"
      ]
    },
    {
      "cell_type": "code",
      "execution_count": 85,
      "id": "8b042e21",
      "metadata": {
        "id": "8b042e21"
      },
      "outputs": [],
      "source": [
        "def normalize_data(arr):\n",
        "    norm_arr = np.copy(arr).astype(np.float64)\n",
        "    for idx in range(len(arr)):\n",
        "        norm_arr[idx] = (arr[idx]-arr[idx].min(axis=0))/(arr[idx].max(axis=0) - arr[idx].min(axis=0))\n",
        "    return np.nan_to_num(norm_arr)"
      ]
    },
    {
      "cell_type": "code",
      "execution_count": 86,
      "id": "a270fc5c",
      "metadata": {
        "id": "a270fc5c"
      },
      "outputs": [],
      "source": [
        "train_normalized = normalize_data(train_data)"
      ]
    },
    {
      "cell_type": "markdown",
      "id": "0eb31c86",
      "metadata": {
        "id": "0eb31c86"
      },
      "source": [
        "## Building the Model "
      ]
    },
    {
      "cell_type": "code",
      "execution_count": 87,
      "id": "a6807302",
      "metadata": {
        "id": "a6807302"
      },
      "outputs": [],
      "source": [
        "dict_models = {}\n",
        "dict_data = {}\n",
        "for label in np.unique(labels):\n",
        "    # prepare data\n",
        "    train_data, test_data = train_test_split(label)\n",
        "    train_data = normalize_data(train_data)\n",
        "    test_data = normalize_data(test_data)\n",
        "    # build model\n",
        "    model = GaussianHMM(n_components=2)\n",
        "    model.fit(train_data.reshape(-1,4), lengths=[30]*40)\n",
        "    dict_models[label] = model\n",
        "    dict_data[label] = (train_data, test_data)"
      ]
    },
    {
      "cell_type": "code",
      "execution_count": 88,
      "id": "3f03d431",
      "metadata": {
        "colab": {
          "base_uri": "https://localhost:8080/"
        },
        "id": "3f03d431",
        "outputId": "9725b397-2732-4f43-c1ba-592a9091ca58"
      },
      "outputs": [
        {
          "output_type": "execute_result",
          "data": {
            "text/plain": [
              "{'MoveDown': GaussianHMM(n_components=2),\n",
              " 'MoveLeft': GaussianHMM(n_components=2),\n",
              " 'MoveRight': GaussianHMM(n_components=2),\n",
              " 'MoveUp': GaussianHMM(n_components=2),\n",
              " 'Press': GaussianHMM(n_components=2),\n",
              " 'ZoomIn': GaussianHMM(n_components=2),\n",
              " 'ZoomOut': GaussianHMM(n_components=2)}"
            ]
          },
          "metadata": {},
          "execution_count": 88
        }
      ],
      "source": [
        "dict_models"
      ]
    },
    {
      "cell_type": "markdown",
      "id": "c40e758a",
      "metadata": {
        "id": "c40e758a"
      },
      "source": [
        "## Evaluating the Test Data"
      ]
    },
    {
      "cell_type": "code",
      "execution_count": 89,
      "id": "b8999c1e",
      "metadata": {
        "colab": {
          "base_uri": "https://localhost:8080/"
        },
        "id": "b8999c1e",
        "outputId": "17117a02-d816-4f8b-83a6-19f81c85954a"
      },
      "outputs": [
        {
          "output_type": "stream",
          "name": "stdout",
          "text": [
            "For Gesture MoveDown, prediction is MoveDown.\n",
            "For Gesture MoveLeft, prediction is MoveLeft.\n",
            "For Gesture MoveRight, prediction is MoveRight.\n",
            "For Gesture MoveUp, prediction is MoveUp.\n",
            "For Gesture Press, prediction is Press.\n",
            "For Gesture ZoomIn, prediction is ZoomIn.\n",
            "For Gesture ZoomOut, prediction is ZoomOut.\n"
          ]
        }
      ],
      "source": [
        "for label in np.unique(labels):\n",
        "    train_data, test_data = dict_data[label]\n",
        "    \n",
        "    res = []\n",
        "    # predict score for all models\n",
        "    for lab in labels:\n",
        "        model = dict_models[lab]\n",
        "        res.append(model.score(test_data.reshape(-1,4)))\n",
        "    # find the best model based on the score.\n",
        "    print(f\"For Gesture {label}, prediction is {labels[np.argmax(res)]}.\")"
      ]
    },
    {
      "cell_type": "markdown",
      "id": "a6280a9c",
      "metadata": {
        "id": "a6280a9c"
      },
      "source": [
        "## Finding the Best Configuration"
      ]
    },
    {
      "cell_type": "code",
      "execution_count": 90,
      "id": "7d69661c",
      "metadata": {
        "id": "7d69661c"
      },
      "outputs": [],
      "source": [
        "results_df = pd.DataFrame()\n",
        "\n",
        "for components in range(2, 11):\n",
        "    for label in np.unique(labels):\n",
        "        temp_model = GaussianHMM(n_components=components)\n",
        "        train_data, test_data = dict_data[label]\n",
        "        temp_model.fit(train_data.reshape(-1,4), lengths=[30]*40)\n",
        "        model_score = temp_model.score(test_data.reshape(-1,4))\n",
        "        results_df = results_df.append(pd.DataFrame(data={\"Gesture\": [label], \"Num_components\": [components], \n",
        "                                                          \"Score\": [model_score]}), ignore_index=True)"
      ]
    },
    {
      "cell_type": "code",
      "execution_count": 91,
      "id": "7bba889f",
      "metadata": {
        "colab": {
          "base_uri": "https://localhost:8080/",
          "height": 352
        },
        "id": "7bba889f",
        "outputId": "23d6d531-3f71-4401-e4e3-0781335a1380"
      },
      "outputs": [
        {
          "output_type": "stream",
          "name": "stdout",
          "text": [
            "\n",
            "\n",
            "Scores for different number of components in HMM model\n"
          ]
        },
        {
          "output_type": "execute_result",
          "data": {
            "text/plain": [
              "Num_components      2       3       4       5       6       7       8   \\\n",
              "Gesture                                                                  \n",
              "MoveDown        2719.0  2847.0  2754.0  2611.0  2567.0  2550.0  2485.0   \n",
              "MoveLeft        2771.0  2763.0  2758.0  2772.0  2734.0  2725.0  2701.0   \n",
              "MoveRight       2840.0  2916.0  2894.0  2862.0  2862.0  2867.0  2836.0   \n",
              "MoveUp          2823.0  2555.0  2427.0  2296.0  2312.0  2108.0  1986.0   \n",
              "Press           2631.0  2598.0  2555.0  2550.0  2543.0  2538.0  2542.0   \n",
              "ZoomIn            28.0   224.0    64.0   236.0   107.0   101.0    69.0   \n",
              "ZoomOut          135.0   350.0   276.0   441.0   471.0   443.0   456.0   \n",
              "\n",
              "Num_components      9       10  \n",
              "Gesture                         \n",
              "MoveDown        2469.0  2502.0  \n",
              "MoveLeft        2704.0  2711.0  \n",
              "MoveRight       2847.0  2818.0  \n",
              "MoveUp          1822.0  1809.0  \n",
              "Press           2538.0  2532.0  \n",
              "ZoomIn           113.0   110.0  \n",
              "ZoomOut          419.0   525.0  "
            ],
            "text/html": [
              "\n",
              "  <div id=\"df-d0c09a38-5286-4eb0-8d15-a3ff3f3bc946\">\n",
              "    <div class=\"colab-df-container\">\n",
              "      <div>\n",
              "<style scoped>\n",
              "    .dataframe tbody tr th:only-of-type {\n",
              "        vertical-align: middle;\n",
              "    }\n",
              "\n",
              "    .dataframe tbody tr th {\n",
              "        vertical-align: top;\n",
              "    }\n",
              "\n",
              "    .dataframe thead th {\n",
              "        text-align: right;\n",
              "    }\n",
              "</style>\n",
              "<table border=\"1\" class=\"dataframe\">\n",
              "  <thead>\n",
              "    <tr style=\"text-align: right;\">\n",
              "      <th>Num_components</th>\n",
              "      <th>2</th>\n",
              "      <th>3</th>\n",
              "      <th>4</th>\n",
              "      <th>5</th>\n",
              "      <th>6</th>\n",
              "      <th>7</th>\n",
              "      <th>8</th>\n",
              "      <th>9</th>\n",
              "      <th>10</th>\n",
              "    </tr>\n",
              "    <tr>\n",
              "      <th>Gesture</th>\n",
              "      <th></th>\n",
              "      <th></th>\n",
              "      <th></th>\n",
              "      <th></th>\n",
              "      <th></th>\n",
              "      <th></th>\n",
              "      <th></th>\n",
              "      <th></th>\n",
              "      <th></th>\n",
              "    </tr>\n",
              "  </thead>\n",
              "  <tbody>\n",
              "    <tr>\n",
              "      <th>MoveDown</th>\n",
              "      <td>2719.0</td>\n",
              "      <td>2847.0</td>\n",
              "      <td>2754.0</td>\n",
              "      <td>2611.0</td>\n",
              "      <td>2567.0</td>\n",
              "      <td>2550.0</td>\n",
              "      <td>2485.0</td>\n",
              "      <td>2469.0</td>\n",
              "      <td>2502.0</td>\n",
              "    </tr>\n",
              "    <tr>\n",
              "      <th>MoveLeft</th>\n",
              "      <td>2771.0</td>\n",
              "      <td>2763.0</td>\n",
              "      <td>2758.0</td>\n",
              "      <td>2772.0</td>\n",
              "      <td>2734.0</td>\n",
              "      <td>2725.0</td>\n",
              "      <td>2701.0</td>\n",
              "      <td>2704.0</td>\n",
              "      <td>2711.0</td>\n",
              "    </tr>\n",
              "    <tr>\n",
              "      <th>MoveRight</th>\n",
              "      <td>2840.0</td>\n",
              "      <td>2916.0</td>\n",
              "      <td>2894.0</td>\n",
              "      <td>2862.0</td>\n",
              "      <td>2862.0</td>\n",
              "      <td>2867.0</td>\n",
              "      <td>2836.0</td>\n",
              "      <td>2847.0</td>\n",
              "      <td>2818.0</td>\n",
              "    </tr>\n",
              "    <tr>\n",
              "      <th>MoveUp</th>\n",
              "      <td>2823.0</td>\n",
              "      <td>2555.0</td>\n",
              "      <td>2427.0</td>\n",
              "      <td>2296.0</td>\n",
              "      <td>2312.0</td>\n",
              "      <td>2108.0</td>\n",
              "      <td>1986.0</td>\n",
              "      <td>1822.0</td>\n",
              "      <td>1809.0</td>\n",
              "    </tr>\n",
              "    <tr>\n",
              "      <th>Press</th>\n",
              "      <td>2631.0</td>\n",
              "      <td>2598.0</td>\n",
              "      <td>2555.0</td>\n",
              "      <td>2550.0</td>\n",
              "      <td>2543.0</td>\n",
              "      <td>2538.0</td>\n",
              "      <td>2542.0</td>\n",
              "      <td>2538.0</td>\n",
              "      <td>2532.0</td>\n",
              "    </tr>\n",
              "    <tr>\n",
              "      <th>ZoomIn</th>\n",
              "      <td>28.0</td>\n",
              "      <td>224.0</td>\n",
              "      <td>64.0</td>\n",
              "      <td>236.0</td>\n",
              "      <td>107.0</td>\n",
              "      <td>101.0</td>\n",
              "      <td>69.0</td>\n",
              "      <td>113.0</td>\n",
              "      <td>110.0</td>\n",
              "    </tr>\n",
              "    <tr>\n",
              "      <th>ZoomOut</th>\n",
              "      <td>135.0</td>\n",
              "      <td>350.0</td>\n",
              "      <td>276.0</td>\n",
              "      <td>441.0</td>\n",
              "      <td>471.0</td>\n",
              "      <td>443.0</td>\n",
              "      <td>456.0</td>\n",
              "      <td>419.0</td>\n",
              "      <td>525.0</td>\n",
              "    </tr>\n",
              "  </tbody>\n",
              "</table>\n",
              "</div>\n",
              "      <button class=\"colab-df-convert\" onclick=\"convertToInteractive('df-d0c09a38-5286-4eb0-8d15-a3ff3f3bc946')\"\n",
              "              title=\"Convert this dataframe to an interactive table.\"\n",
              "              style=\"display:none;\">\n",
              "        \n",
              "  <svg xmlns=\"http://www.w3.org/2000/svg\" height=\"24px\"viewBox=\"0 0 24 24\"\n",
              "       width=\"24px\">\n",
              "    <path d=\"M0 0h24v24H0V0z\" fill=\"none\"/>\n",
              "    <path d=\"M18.56 5.44l.94 2.06.94-2.06 2.06-.94-2.06-.94-.94-2.06-.94 2.06-2.06.94zm-11 1L8.5 8.5l.94-2.06 2.06-.94-2.06-.94L8.5 2.5l-.94 2.06-2.06.94zm10 10l.94 2.06.94-2.06 2.06-.94-2.06-.94-.94-2.06-.94 2.06-2.06.94z\"/><path d=\"M17.41 7.96l-1.37-1.37c-.4-.4-.92-.59-1.43-.59-.52 0-1.04.2-1.43.59L10.3 9.45l-7.72 7.72c-.78.78-.78 2.05 0 2.83L4 21.41c.39.39.9.59 1.41.59.51 0 1.02-.2 1.41-.59l7.78-7.78 2.81-2.81c.8-.78.8-2.07 0-2.86zM5.41 20L4 18.59l7.72-7.72 1.47 1.35L5.41 20z\"/>\n",
              "  </svg>\n",
              "      </button>\n",
              "      \n",
              "  <style>\n",
              "    .colab-df-container {\n",
              "      display:flex;\n",
              "      flex-wrap:wrap;\n",
              "      gap: 12px;\n",
              "    }\n",
              "\n",
              "    .colab-df-convert {\n",
              "      background-color: #E8F0FE;\n",
              "      border: none;\n",
              "      border-radius: 50%;\n",
              "      cursor: pointer;\n",
              "      display: none;\n",
              "      fill: #1967D2;\n",
              "      height: 32px;\n",
              "      padding: 0 0 0 0;\n",
              "      width: 32px;\n",
              "    }\n",
              "\n",
              "    .colab-df-convert:hover {\n",
              "      background-color: #E2EBFA;\n",
              "      box-shadow: 0px 1px 2px rgba(60, 64, 67, 0.3), 0px 1px 3px 1px rgba(60, 64, 67, 0.15);\n",
              "      fill: #174EA6;\n",
              "    }\n",
              "\n",
              "    [theme=dark] .colab-df-convert {\n",
              "      background-color: #3B4455;\n",
              "      fill: #D2E3FC;\n",
              "    }\n",
              "\n",
              "    [theme=dark] .colab-df-convert:hover {\n",
              "      background-color: #434B5C;\n",
              "      box-shadow: 0px 1px 3px 1px rgba(0, 0, 0, 0.15);\n",
              "      filter: drop-shadow(0px 1px 2px rgba(0, 0, 0, 0.3));\n",
              "      fill: #FFFFFF;\n",
              "    }\n",
              "  </style>\n",
              "\n",
              "      <script>\n",
              "        const buttonEl =\n",
              "          document.querySelector('#df-d0c09a38-5286-4eb0-8d15-a3ff3f3bc946 button.colab-df-convert');\n",
              "        buttonEl.style.display =\n",
              "          google.colab.kernel.accessAllowed ? 'block' : 'none';\n",
              "\n",
              "        async function convertToInteractive(key) {\n",
              "          const element = document.querySelector('#df-d0c09a38-5286-4eb0-8d15-a3ff3f3bc946');\n",
              "          const dataTable =\n",
              "            await google.colab.kernel.invokeFunction('convertToInteractive',\n",
              "                                                     [key], {});\n",
              "          if (!dataTable) return;\n",
              "\n",
              "          const docLinkHtml = 'Like what you see? Visit the ' +\n",
              "            '<a target=\"_blank\" href=https://colab.research.google.com/notebooks/data_table.ipynb>data table notebook</a>'\n",
              "            + ' to learn more about interactive tables.';\n",
              "          element.innerHTML = '';\n",
              "          dataTable['output_type'] = 'display_data';\n",
              "          await google.colab.output.renderOutput(dataTable, element);\n",
              "          const docLink = document.createElement('div');\n",
              "          docLink.innerHTML = docLinkHtml;\n",
              "          element.appendChild(docLink);\n",
              "        }\n",
              "      </script>\n",
              "    </div>\n",
              "  </div>\n",
              "  "
            ]
          },
          "metadata": {},
          "execution_count": 91
        }
      ],
      "source": [
        "print(\"\\n\\nScores for different number of components in HMM model\")\n",
        "results_df.pivot_table(index='Gesture', columns=\"Num_components\", values='Score', aggfunc=np.sum).apply(round)"
      ]
    },
    {
      "cell_type": "code",
      "execution_count": 92,
      "id": "57a0eaf6",
      "metadata": {
        "colab": {
          "base_uri": "https://localhost:8080/",
          "height": 269
        },
        "id": "57a0eaf6",
        "outputId": "b1058250-be42-4cba-9c4c-015fb121a591"
      },
      "outputs": [
        {
          "output_type": "execute_result",
          "data": {
            "text/plain": [
              "     Gesture  Num_components        Score\n",
              "0   MoveDown               3  2846.814807\n",
              "1   MoveLeft               5  2771.929562\n",
              "2  MoveRight               3  2916.100484\n",
              "3     MoveUp               2  2822.805146\n",
              "4      Press               2  2630.529941\n",
              "5     ZoomIn               5   235.740916\n",
              "6    ZoomOut              10   525.051797"
            ],
            "text/html": [
              "\n",
              "  <div id=\"df-ad7e7293-07b0-4056-aa17-6ea2e4aa3944\">\n",
              "    <div class=\"colab-df-container\">\n",
              "      <div>\n",
              "<style scoped>\n",
              "    .dataframe tbody tr th:only-of-type {\n",
              "        vertical-align: middle;\n",
              "    }\n",
              "\n",
              "    .dataframe tbody tr th {\n",
              "        vertical-align: top;\n",
              "    }\n",
              "\n",
              "    .dataframe thead th {\n",
              "        text-align: right;\n",
              "    }\n",
              "</style>\n",
              "<table border=\"1\" class=\"dataframe\">\n",
              "  <thead>\n",
              "    <tr style=\"text-align: right;\">\n",
              "      <th></th>\n",
              "      <th>Gesture</th>\n",
              "      <th>Num_components</th>\n",
              "      <th>Score</th>\n",
              "    </tr>\n",
              "  </thead>\n",
              "  <tbody>\n",
              "    <tr>\n",
              "      <th>0</th>\n",
              "      <td>MoveDown</td>\n",
              "      <td>3</td>\n",
              "      <td>2846.814807</td>\n",
              "    </tr>\n",
              "    <tr>\n",
              "      <th>1</th>\n",
              "      <td>MoveLeft</td>\n",
              "      <td>5</td>\n",
              "      <td>2771.929562</td>\n",
              "    </tr>\n",
              "    <tr>\n",
              "      <th>2</th>\n",
              "      <td>MoveRight</td>\n",
              "      <td>3</td>\n",
              "      <td>2916.100484</td>\n",
              "    </tr>\n",
              "    <tr>\n",
              "      <th>3</th>\n",
              "      <td>MoveUp</td>\n",
              "      <td>2</td>\n",
              "      <td>2822.805146</td>\n",
              "    </tr>\n",
              "    <tr>\n",
              "      <th>4</th>\n",
              "      <td>Press</td>\n",
              "      <td>2</td>\n",
              "      <td>2630.529941</td>\n",
              "    </tr>\n",
              "    <tr>\n",
              "      <th>5</th>\n",
              "      <td>ZoomIn</td>\n",
              "      <td>5</td>\n",
              "      <td>235.740916</td>\n",
              "    </tr>\n",
              "    <tr>\n",
              "      <th>6</th>\n",
              "      <td>ZoomOut</td>\n",
              "      <td>10</td>\n",
              "      <td>525.051797</td>\n",
              "    </tr>\n",
              "  </tbody>\n",
              "</table>\n",
              "</div>\n",
              "      <button class=\"colab-df-convert\" onclick=\"convertToInteractive('df-ad7e7293-07b0-4056-aa17-6ea2e4aa3944')\"\n",
              "              title=\"Convert this dataframe to an interactive table.\"\n",
              "              style=\"display:none;\">\n",
              "        \n",
              "  <svg xmlns=\"http://www.w3.org/2000/svg\" height=\"24px\"viewBox=\"0 0 24 24\"\n",
              "       width=\"24px\">\n",
              "    <path d=\"M0 0h24v24H0V0z\" fill=\"none\"/>\n",
              "    <path d=\"M18.56 5.44l.94 2.06.94-2.06 2.06-.94-2.06-.94-.94-2.06-.94 2.06-2.06.94zm-11 1L8.5 8.5l.94-2.06 2.06-.94-2.06-.94L8.5 2.5l-.94 2.06-2.06.94zm10 10l.94 2.06.94-2.06 2.06-.94-2.06-.94-.94-2.06-.94 2.06-2.06.94z\"/><path d=\"M17.41 7.96l-1.37-1.37c-.4-.4-.92-.59-1.43-.59-.52 0-1.04.2-1.43.59L10.3 9.45l-7.72 7.72c-.78.78-.78 2.05 0 2.83L4 21.41c.39.39.9.59 1.41.59.51 0 1.02-.2 1.41-.59l7.78-7.78 2.81-2.81c.8-.78.8-2.07 0-2.86zM5.41 20L4 18.59l7.72-7.72 1.47 1.35L5.41 20z\"/>\n",
              "  </svg>\n",
              "      </button>\n",
              "      \n",
              "  <style>\n",
              "    .colab-df-container {\n",
              "      display:flex;\n",
              "      flex-wrap:wrap;\n",
              "      gap: 12px;\n",
              "    }\n",
              "\n",
              "    .colab-df-convert {\n",
              "      background-color: #E8F0FE;\n",
              "      border: none;\n",
              "      border-radius: 50%;\n",
              "      cursor: pointer;\n",
              "      display: none;\n",
              "      fill: #1967D2;\n",
              "      height: 32px;\n",
              "      padding: 0 0 0 0;\n",
              "      width: 32px;\n",
              "    }\n",
              "\n",
              "    .colab-df-convert:hover {\n",
              "      background-color: #E2EBFA;\n",
              "      box-shadow: 0px 1px 2px rgba(60, 64, 67, 0.3), 0px 1px 3px 1px rgba(60, 64, 67, 0.15);\n",
              "      fill: #174EA6;\n",
              "    }\n",
              "\n",
              "    [theme=dark] .colab-df-convert {\n",
              "      background-color: #3B4455;\n",
              "      fill: #D2E3FC;\n",
              "    }\n",
              "\n",
              "    [theme=dark] .colab-df-convert:hover {\n",
              "      background-color: #434B5C;\n",
              "      box-shadow: 0px 1px 3px 1px rgba(0, 0, 0, 0.15);\n",
              "      filter: drop-shadow(0px 1px 2px rgba(0, 0, 0, 0.3));\n",
              "      fill: #FFFFFF;\n",
              "    }\n",
              "  </style>\n",
              "\n",
              "      <script>\n",
              "        const buttonEl =\n",
              "          document.querySelector('#df-ad7e7293-07b0-4056-aa17-6ea2e4aa3944 button.colab-df-convert');\n",
              "        buttonEl.style.display =\n",
              "          google.colab.kernel.accessAllowed ? 'block' : 'none';\n",
              "\n",
              "        async function convertToInteractive(key) {\n",
              "          const element = document.querySelector('#df-ad7e7293-07b0-4056-aa17-6ea2e4aa3944');\n",
              "          const dataTable =\n",
              "            await google.colab.kernel.invokeFunction('convertToInteractive',\n",
              "                                                     [key], {});\n",
              "          if (!dataTable) return;\n",
              "\n",
              "          const docLinkHtml = 'Like what you see? Visit the ' +\n",
              "            '<a target=\"_blank\" href=https://colab.research.google.com/notebooks/data_table.ipynb>data table notebook</a>'\n",
              "            + ' to learn more about interactive tables.';\n",
              "          element.innerHTML = '';\n",
              "          dataTable['output_type'] = 'display_data';\n",
              "          await google.colab.output.renderOutput(dataTable, element);\n",
              "          const docLink = document.createElement('div');\n",
              "          docLink.innerHTML = docLinkHtml;\n",
              "          element.appendChild(docLink);\n",
              "        }\n",
              "      </script>\n",
              "    </div>\n",
              "  </div>\n",
              "  "
            ]
          },
          "metadata": {},
          "execution_count": 92
        }
      ],
      "source": [
        "# Best model\n",
        "final_results_df = results_df.sort_values(\"Score\", ascending=False).groupby(\"Gesture\").first().reset_index()\n",
        "final_results_df"
      ]
    },
    {
      "cell_type": "markdown",
      "id": "daeae4f1",
      "metadata": {
        "id": "daeae4f1"
      },
      "source": [
        "## Sampling from the HMM"
      ]
    },
    {
      "cell_type": "code",
      "execution_count": 93,
      "id": "be8975bb",
      "metadata": {
        "colab": {
          "base_uri": "https://localhost:8080/",
          "height": 1000
        },
        "id": "be8975bb",
        "outputId": "616e1c8b-7378-413c-e446-18f0cb2913c7"
      },
      "outputs": [
        {
          "output_type": "display_data",
          "data": {
            "text/plain": [
              "<Figure size 1440x360 with 2 Axes>"
            ],
            "image/png": "[encoded data removed]"
          },
          "metadata": {
            "needs_background": "light"
          }
        },
        {
          "output_type": "display_data",
          "data": {
            "text/plain": [
              "<Figure size 1440x360 with 2 Axes>"
            ],
            "image/png": "[encoded data removed]"
          },
          "metadata": {
            "needs_background": "light"
          }
        },
        {
          "output_type": "display_data",
          "data": {
            "text/plain": [
              "<Figure size 1440x360 with 2 Axes>"
            ],
            "image/png": "[encoded data removed]"
          },
          "metadata": {
            "needs_background": "light"
          }
        },
        {
          "output_type": "display_data",
          "data": {
            "text/plain": [
              "<Figure size 1440x360 with 2 Axes>"
            ],
            "image/png": "[encoded data removed]"
          },
          "metadata": {
            "needs_background": "light"
          }
        },
        {
          "output_type": "display_data",
          "data": {
            "text/plain": [
              "<Figure size 1440x360 with 2 Axes>"
            ],
            "image/png": "[encoded data removed]"
          },
          "metadata": {
            "needs_background": "light"
          }
        },
        {
          "output_type": "display_data",
          "data": {
            "text/plain": [
              "<Figure size 1440x360 with 2 Axes>"
            ],
            "image/png": "[encoded data removed]"
          },
          "metadata": {
            "needs_background": "light"
          }
        },
        {
          "output_type": "display_data",
          "data": {
            "text/plain": [
              "<Figure size 1440x360 with 2 Axes>"
            ],
            "image/png": "[encoded data removed]"
          },
          "metadata": {
            "needs_background": "light"
          }
        }
      ],
      "source": [
        "import matplotlib.pyplot as plt\n",
        "def plot_sample(r, title=\"Sample\", ax=None):\n",
        "    if ax:\n",
        "        ax.scatter(x=r[:,0],y=r[:,1])\n",
        "        ax.scatter(x=r[:,2],y=r[:,3])\n",
        "        ax.legend([\"Left\", \"Right\"])\n",
        "        ax.set_title(title)\n",
        "        #plt.show()\n",
        "    else:\n",
        "        fig = plt.figure(figsize=(10,5))\n",
        "        plt.scatter(x=r[:,0],y=r[:,1])\n",
        "        plt.scatter(x=r[:,2],y=r[:,3])\n",
        "        plt.legend([\"Left\", \"Right\"])\n",
        "        plt.title(title)\n",
        "        plt.show()\n",
        "    \n",
        "r = model.sample(4)[0]\n",
        "\n",
        "dict_best_model = {}\n",
        "\n",
        "for i, row in final_results_df.iterrows():\n",
        "    gesture, components = row['Gesture'], row['Num_components']\n",
        "    temp_model = GaussianHMM(n_components=components)\n",
        "    train_data, test_data = dict_data[gesture]\n",
        "    temp_model.fit(train_data.reshape(-1,4), lengths=[30]*40)\n",
        "    \n",
        "    dict_best_model[gesture] = temp_model\n",
        "    \n",
        "    fig, ax = plt.subplots(figsize=(20,5), nrows=1,ncols=2)\n",
        "    plot_sample(train_data[np.random.randint(0,40,5), :], title=f\"Train data of {gesture}\", ax=ax[0])\n",
        "    plot_sample(temp_model.sample(5)[0], title=f\"Generated Sample data of {gesture}\", ax=ax[1])\n",
        "    plt.show()\n"
      ]
    },
    {
      "cell_type": "markdown",
      "id": "a171f1ee",
      "metadata": {
        "id": "a171f1ee"
      },
      "source": [
        "## Comparing Samples"
      ]
    },
    {
      "cell_type": "code",
      "execution_count": 93,
      "id": "ade2a5cf",
      "metadata": {
        "id": "ade2a5cf"
      },
      "outputs": [],
      "source": [
        ""
      ]
    },
    {
      "cell_type": "markdown",
      "id": "c7da0da5",
      "metadata": {
        "id": "c7da0da5"
      },
      "source": [
        "## The Forwards Algorithm"
      ]
    },
    {
      "cell_type": "code",
      "execution_count": 94,
      "id": "b75e4983",
      "metadata": {
        "scrolled": true,
        "colab": {
          "base_uri": "https://localhost:8080/"
        },
        "id": "b75e4983",
        "outputId": "ccfd40a5-a4e1-4eb2-a9cc-d536ba089620"
      },
      "outputs": [
        {
          "output_type": "execute_result",
          "data": {
            "text/plain": [
              "{'algorithm': 'viterbi',\n",
              " 'covariance_type': 'diag',\n",
              " 'covars_prior': 0.01,\n",
              " 'covars_weight': 1,\n",
              " 'implementation': 'log',\n",
              " 'init_params': 'stmc',\n",
              " 'means_prior': 0,\n",
              " 'means_weight': 0,\n",
              " 'min_covar': 0.001,\n",
              " 'n_components': 3,\n",
              " 'n_iter': 10,\n",
              " 'params': 'stmc',\n",
              " 'random_state': None,\n",
              " 'startprob_prior': 1.0,\n",
              " 'tol': 0.01,\n",
              " 'transmat_prior': 1.0,\n",
              " 'verbose': False}"
            ]
          },
          "metadata": {},
          "execution_count": 94
        }
      ],
      "source": [
        "dict_best_model['MoveDown'].get_params()"
      ]
    },
    {
      "cell_type": "code",
      "execution_count": 95,
      "id": "d3c9cee5",
      "metadata": {
        "colab": {
          "base_uri": "https://localhost:8080/"
        },
        "id": "d3c9cee5",
        "outputId": "92b9dbf4-5ec8-4d3a-f298-8f1847977356"
      },
      "outputs": [
        {
          "output_type": "stream",
          "name": "stderr",
          "text": [
            "WARNING:hmmlearn.base:Even though the 'startprob_' attribute is set, it will be overwritten during initialization because 'init_params' contains 's'\n",
            "WARNING:hmmlearn.base:Even though the 'transmat_' attribute is set, it will be overwritten during initialization because 'init_params' contains 't'\n",
            "WARNING:hmmlearn.base:Even though the 'means_' attribute is set, it will be overwritten during initialization because 'init_params' contains 'm'\n",
            "WARNING:hmmlearn.base:Even though the 'covars_' attribute is set, it will be overwritten during initialization because 'init_params' contains 'c'\n",
            "WARNING:hmmlearn.base:Even though the 'startprob_' attribute is set, it will be overwritten during initialization because 'init_params' contains 's'\n",
            "WARNING:hmmlearn.base:Even though the 'transmat_' attribute is set, it will be overwritten during initialization because 'init_params' contains 't'\n",
            "WARNING:hmmlearn.base:Even though the 'means_' attribute is set, it will be overwritten during initialization because 'init_params' contains 'm'\n",
            "WARNING:hmmlearn.base:Even though the 'covars_' attribute is set, it will be overwritten during initialization because 'init_params' contains 'c'\n"
          ]
        },
        {
          "output_type": "stream",
          "name": "stdout",
          "text": [
            "Gesture: MoveDown, Score on test (Trained Model): 2832.060483985481, Score on test (Forward Parameters): 2734.419463981111\n"
          ]
        },
        {
          "output_type": "stream",
          "name": "stderr",
          "text": [
            "WARNING:hmmlearn.base:Even though the 'startprob_' attribute is set, it will be overwritten during initialization because 'init_params' contains 's'\n",
            "WARNING:hmmlearn.base:Even though the 'transmat_' attribute is set, it will be overwritten during initialization because 'init_params' contains 't'\n",
            "WARNING:hmmlearn.base:Even though the 'means_' attribute is set, it will be overwritten during initialization because 'init_params' contains 'm'\n",
            "WARNING:hmmlearn.base:Even though the 'covars_' attribute is set, it will be overwritten during initialization because 'init_params' contains 'c'\n"
          ]
        },
        {
          "output_type": "stream",
          "name": "stdout",
          "text": [
            "Gesture: MoveLeft, Score on test (Trained Model): 2842.0575027742952, Score on test (Forward Parameters): 2789.3447117256537\n"
          ]
        },
        {
          "output_type": "stream",
          "name": "stderr",
          "text": [
            "WARNING:hmmlearn.base:Even though the 'startprob_' attribute is set, it will be overwritten during initialization because 'init_params' contains 's'\n",
            "WARNING:hmmlearn.base:Even though the 'transmat_' attribute is set, it will be overwritten during initialization because 'init_params' contains 't'\n",
            "WARNING:hmmlearn.base:Even though the 'means_' attribute is set, it will be overwritten during initialization because 'init_params' contains 'm'\n",
            "WARNING:hmmlearn.base:Even though the 'covars_' attribute is set, it will be overwritten during initialization because 'init_params' contains 'c'\n"
          ]
        },
        {
          "output_type": "stream",
          "name": "stdout",
          "text": [
            "Gesture: MoveRight, Score on test (Trained Model): 2807.3327996541857, Score on test (Forward Parameters): 2766.9620045819856\n"
          ]
        },
        {
          "output_type": "stream",
          "name": "stderr",
          "text": [
            "WARNING:hmmlearn.base:Even though the 'startprob_' attribute is set, it will be overwritten during initialization because 'init_params' contains 's'\n",
            "WARNING:hmmlearn.base:Even though the 'transmat_' attribute is set, it will be overwritten during initialization because 'init_params' contains 't'\n",
            "WARNING:hmmlearn.base:Even though the 'means_' attribute is set, it will be overwritten during initialization because 'init_params' contains 'm'\n",
            "WARNING:hmmlearn.base:Even though the 'covars_' attribute is set, it will be overwritten during initialization because 'init_params' contains 'c'\n"
          ]
        },
        {
          "output_type": "stream",
          "name": "stdout",
          "text": [
            "Gesture: MoveUp, Score on test (Trained Model): 2724.617287464299, Score on test (Forward Parameters): 2714.3796993221363\n"
          ]
        },
        {
          "output_type": "stream",
          "name": "stderr",
          "text": [
            "WARNING:hmmlearn.base:Even though the 'startprob_' attribute is set, it will be overwritten during initialization because 'init_params' contains 's'\n",
            "WARNING:hmmlearn.base:Even though the 'transmat_' attribute is set, it will be overwritten during initialization because 'init_params' contains 't'\n",
            "WARNING:hmmlearn.base:Even though the 'means_' attribute is set, it will be overwritten during initialization because 'init_params' contains 'm'\n",
            "WARNING:hmmlearn.base:Even though the 'covars_' attribute is set, it will be overwritten during initialization because 'init_params' contains 'c'\n"
          ]
        },
        {
          "output_type": "stream",
          "name": "stdout",
          "text": [
            "Gesture: Press, Score on test (Trained Model): 2714.3417087312237, Score on test (Forward Parameters): 2759.4905433429803\n"
          ]
        },
        {
          "output_type": "stream",
          "name": "stderr",
          "text": [
            "WARNING:hmmlearn.base:Even though the 'startprob_' attribute is set, it will be overwritten during initialization because 'init_params' contains 's'\n",
            "WARNING:hmmlearn.base:Even though the 'transmat_' attribute is set, it will be overwritten during initialization because 'init_params' contains 't'\n",
            "WARNING:hmmlearn.base:Even though the 'means_' attribute is set, it will be overwritten during initialization because 'init_params' contains 'm'\n",
            "WARNING:hmmlearn.base:Even though the 'covars_' attribute is set, it will be overwritten during initialization because 'init_params' contains 'c'\n"
          ]
        },
        {
          "output_type": "stream",
          "name": "stdout",
          "text": [
            "Gesture: ZoomIn, Score on test (Trained Model): 351.920831548877, Score on test (Forward Parameters): -611.1271678717831\n",
            "Gesture: ZoomOut, Score on test (Trained Model): 469.0545938575895, Score on test (Forward Parameters): -431.516170193565\n"
          ]
        }
      ],
      "source": [
        "for gesture, model in dict_best_model.items():\n",
        "    \n",
        "    train_data, test_data = train_test_split(gesture)\n",
        "    test_data = normalize_data(test_data)\n",
        "    train_data = normalize_data(train_data)\n",
        "    model.fit(train_data.reshape(-1,4), lengths=[30]*40)\n",
        "    model_score = model.score(test_data.reshape(-1,4))\n",
        "    \n",
        "    forward_model = GaussianHMM(init_params=model.get_params())\n",
        "    forward_model.fit(train_data.reshape(-1,4), lengths=[30]*40)\n",
        "    forward_model_score = forward_model.score(test_data.reshape(-1,4))\n",
        "    print(f\"Gesture: {gesture}, Score on test (Trained Model): {model_score}, Score on test (Forward Parameters): {forward_model_score}\")"
      ]
    },
    {
      "cell_type": "code",
      "execution_count": 95,
      "id": "47173259",
      "metadata": {
        "id": "47173259"
      },
      "outputs": [],
      "source": [
        ""
      ]
    },
    {
      "cell_type": "code",
      "execution_count": 95,
      "id": "c98a0e62",
      "metadata": {
        "id": "c98a0e62"
      },
      "outputs": [],
      "source": [
        ""
      ]
    }
  ],
  "metadata": {
    "kernelspec": {
      "display_name": "Python 3 (ipykernel)",
      "language": "python",
      "name": "python3"
    },
    "language_info": {
      "codemirror_mode": {
        "name": "ipython",
        "version": 3
      },
      "file_extension": ".py",
      "mimetype": "text/x-python",
      "name": "python",
      "nbconvert_exporter": "python",
      "pygments_lexer": "ipython3",
      "version": "3.10.2"
    },
    "colab": {
      "name": "lxi5475_Assmt4.ipynb",
      "provenance": []
    }
  },
  "nbformat": 4,
  "nbformat_minor": 5
}